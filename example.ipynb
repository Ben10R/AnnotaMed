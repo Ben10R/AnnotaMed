{
  "cells": [
    {
      "cell_type": "markdown",
      "metadata": {
        "id": "dKKufAeQCsTL"
      },
      "source": [
        "# Statistiques projet Annotamed à l'aide d'INCEpTALYTICS\n",
        "\n",
        "The _INCEpTALYTICS_ package allows you to export and analyse annotation projects using the [_INCEpTION_](https://inception-project.github.io/) annotation tool. \n",
        "This guide gives an overview over its functionalities. It assumes that you are familiar with the INCEpTION annotation tool."
      ]
    },
    {
      "cell_type": "markdown",
      "metadata": {
        "id": "Haem7elODc_a"
      },
      "source": [
        "## Chargement du projet Annotamed\n",
        "\n",
        "* Import d'un [fichier zippé XMI](https://inception-project.github.io/releases/22.4/docs/user-guide.html#sect_formats_uimaxmi) exporté d'Inception\n",
        "\n",
        "***NOTE***: XMI exports must be in XMI v1.0 format, as INCEpTALYTICS is built on top of [_dkpro cassis_](https://github.com/dkpro/dkpro-cassis).\n",
        "\n",
        "Installer la librairie inceptalytics"
      ]
    },
    {
      "cell_type": "code",
      "execution_count": 3,
      "metadata": {},
      "outputs": [],
      "source": [
        "# %pip install inceptalytics"
      ]
    },
    {
      "cell_type": "code",
      "execution_count": 4,
      "metadata": {
        "id": "laVluIRvFgZ8"
      },
      "outputs": [],
      "source": [
        "from inceptalytics import Project\n",
        "from sklearn.metrics import cohen_kappa_score\n",
        "from sklearn.preprocessing import LabelEncoder\n",
        "import pandas as pd\n",
        "import numpy as np\n",
        "# Ignore inceptalytics warnings\n",
        "import warnings\n",
        "warnings.simplefilter(action='ignore', category=FutureWarning)"
      ]
    },
    {
      "cell_type": "code",
      "execution_count": 5,
      "metadata": {},
      "outputs": [],
      "source": [
        "project = Project.from_zipped_xmi('../data/annotamed9828978513773495996.zip')"
      ]
    },
    {
      "cell_type": "markdown",
      "metadata": {
        "id": "a2lI4EjwGHy7"
      },
      "source": [
        "Once a project is loaded, you can access different properties such as annotators and annotated files. \n",
        "Per default, those include only annotators who annotated at least a single document and documents that contain at least a single annotation."
      ]
    },
    {
      "cell_type": "code",
      "execution_count": 26,
      "metadata": {
        "id": "a9jHx-chGCjP"
      },
      "outputs": [
        {
          "name": "stdout",
          "output_type": "stream",
          "text": [
            "Annotateurs : ['CURATION_USER', 'INITIAL_CAS', 'AV00440', 'AS00020', 'AC30300', 'AR41550', 'AU90360', 'AV45040']\n",
            "Nos layers: ['webanno.custom.EntitsUMLS', 'webanno.custom.Relation']\n"
          ]
        }
      ],
      "source": [
        "print('Annotateurs :', project.annotators)\n",
        "\n",
        "file_names =  project.source_file_names\n",
        "\n",
        "# Les documents annotés au moins par 1 annotateur\n",
        "file_names_all = file_names[:38]\n",
        "\n",
        "# Les 9 documents annotés par 3 annotateurs \n",
        "file_names_3_annotators = file_names[:9]\n",
        "\n",
        "print('Nos layers:', [el for el in project.layers if \"custom\" in el])"
      ]
    },
    {
      "cell_type": "markdown",
      "metadata": {
        "id": "wDNekRdvJhjb"
      },
      "source": [
        "## Analyse de nos annotations\n",
        "\n",
        "Annotations are organised in _layers_ and _features_. To analyse a specific annotation, you need to select a feature-layer combination. The returned _View_ offers the main analysis functionalities of INCEpTALYTICS."
      ]
    },
    {
      "cell_type": "code",
      "execution_count": 28,
      "metadata": {
        "id": "RSKmm8l-J85z"
      },
      "outputs": [
        {
          "name": "stdout",
          "output_type": "stream",
          "text": [
            "Features umls: ['UMLSCUI', 'Typesmantique']\n",
            "Features relations: ['Dependent', 'Governor', 'Typederelation']\n"
          ]
        }
      ],
      "source": [
        "# Layers custom de notre projet \n",
        "umls_layer= 'webanno.custom.EntitsUMLS'\n",
        "relations_layer = 'webanno.custom.Relation'\n",
        "print(f'Features umls: {project.features(umls_layer)}')\n",
        "print(f'Features relations: {project.features(relations_layer)}')\n",
        "\n",
        "# Features de nos layers\n",
        "feature_umls = 'UMLSCUI'\n",
        "feature_umls_types_semantiques = 'Typesmantique'\n",
        "feature_relation = 'Typederelation'\n",
        "\n",
        "feature_path_umls = f'{umls_layer}>{feature_umls}'\n",
        "feature_path_umls_types_semantiques = f'{umls_layer}>{feature_umls_types_semantiques}'\n",
        "feature_path_relations = f'{relations_layer}>{feature_relation}'"
      ]
    },
    {
      "cell_type": "markdown",
      "metadata": {
        "id": "VPd19hFqQk1o"
      },
      "source": [
        "Views reduite à nos 3 annotateurs"
      ]
    },
    {
      "cell_type": "code",
      "execution_count": null,
      "metadata": {
        "id": "k_qqElDrQrL8"
      },
      "outputs": [],
      "source": [
        "umls_annos = project.select(annotation=feature_path_umls,\n",
        "                            annotators=['AS00020', 'AC30300', 'AR41550'],\n",
        "                            source_files=file_names_all)\n",
        "\n",
        "umls_annos_types_semantiques = project.select(annotation=feature_path_umls_types_semantiques,\n",
        "                            annotators=['AS00020', 'AC30300', 'AR41550'],\n",
        "                            source_files=file_names_all)\n",
        "\n",
        "relations_annos = project.select(annotation=feature_path_relations,\n",
        "                                 annotators=['AS00020', 'AC30300', 'AR41550'],\n",
        "                            source_files=file_names_all)\n",
        "\n",
        "# Views réduite à nos 9 documents annotés par 3 annotateurs\n",
        "reduced_umls_annos = project.select(annotation=feature_path_umls,\n",
        "                                   annotators=['AS00020', 'AC30300', 'AR41550'],\n",
        "                                   source_files=file_names_3_annotators)\n",
        "\n",
        "reduced_umls_annos_types_semantiques = project.select(annotation=feature_path_umls_types_semantiques,\n",
        "                                   annotators=['AS00020', 'AC30300', 'AR41550'],\n",
        "                                   source_files=file_names_3_annotators)\n",
        "\n",
        "reduced_relations_annos = project.select(annotation=feature_path_relations,\n",
        "                                   annotators=['AS00020', 'AC30300', 'AR41550'],\n",
        "                                   source_files=file_names_3_annotators)"
      ]
    },
    {
      "cell_type": "markdown",
      "metadata": {
        "id": "BqPGSJmNRQL1"
      },
      "source": [
        "## Statistiques du projet\n",
        "### 1. Corpus total de documents annotés par au moins 1 annotateur\n",
        "\n",
        "- Nombre d'annotateurs : 3\n",
        "- Nombre de documents : 38\n",
        "\n",
        "### 1.1. Total d'annotations"
      ]
    },
    {
      "cell_type": "code",
      "execution_count": 9,
      "metadata": {},
      "outputs": [
        {
          "name": "stdout",
          "output_type": "stream",
          "text": [
            "CUI UMLS annotés: 690\n",
            "Relations annotées: 53\n"
          ]
        }
      ],
      "source": [
        "print('CUI UMLS annotés:', umls_annos.count())\n",
        "print('Relations annotées:', relations_annos.count())"
      ]
    },
    {
      "cell_type": "markdown",
      "metadata": {},
      "source": [
        "### 1.2. Layer Entité UMLS"
      ]
    },
    {
      "cell_type": "code",
      "execution_count": 10,
      "metadata": {},
      "outputs": [
        {
          "name": "stdout",
          "output_type": "stream",
          "text": [
            "Total annotations par annotateur : \n",
            " annotator\n",
            "AC30300     54\n",
            "AR41550    467\n",
            "AS00020    169\n",
            "Name: annotation, dtype: int64\n"
          ]
        }
      ],
      "source": [
        "print('Total annotations par annotateur : \\n', umls_annos.count(grouped_by=['annotator']))"
      ]
    },
    {
      "cell_type": "markdown",
      "metadata": {},
      "source": [
        "### 2. Corpus réduit aux documents annotés par les 3 annotateurs\n",
        "- Nombre d'annotateurs : 3\n",
        "- Nombre de documents : 9\n",
        "### 2.1. Total d'annotations"
      ]
    },
    {
      "cell_type": "code",
      "execution_count": 11,
      "metadata": {
        "id": "nXlvoQfcRcva"
      },
      "outputs": [
        {
          "name": "stdout",
          "output_type": "stream",
          "text": [
            "Entités UMLS annotés: 271\n",
            "Relations annotées: 45\n"
          ]
        }
      ],
      "source": [
        "print('Entités UMLS annotés:', reduced_umls_annos.count())\n",
        "print('Relations annotées:', reduced_relations_annos.count())"
      ]
    },
    {
      "cell_type": "markdown",
      "metadata": {},
      "source": [
        "### 2.2. Layer Entité UMLS"
      ]
    },
    {
      "cell_type": "code",
      "execution_count": 12,
      "metadata": {},
      "outputs": [
        {
          "name": "stdout",
          "output_type": "stream",
          "text": [
            "Total annotations par annotateur : \n",
            " annotator\n",
            "AC30300     54\n",
            "AR41550     93\n",
            "AS00020    124\n",
            "Name: annotation, dtype: int64\n"
          ]
        }
      ],
      "source": [
        "print('Total annotations par annotateur : \\n', reduced_umls_annos.count(grouped_by=['annotator']))"
      ]
    },
    {
      "cell_type": "markdown",
      "metadata": {
        "id": "mSHMiribRkMm"
      },
      "source": [
        "### 2.3. Layer Relations"
      ]
    },
    {
      "cell_type": "code",
      "execution_count": 13,
      "metadata": {
        "id": "QwFGKP2UR-PR"
      },
      "outputs": [
        {
          "name": "stdout",
          "output_type": "stream",
          "text": [
            "Total de relations annotées : \n",
            " annotation\n",
            "Cause Effet         33\n",
            "Traitement Effet    12\n",
            "Name: annotation, dtype: int64\n",
            "====================================\n",
            "Annotations par annotateurr par type de relation : \n",
            " annotator  annotation      \n",
            "AC30300    Cause Effet          7\n",
            "           Traitement Effet     9\n",
            "AR41550    Cause Effet         15\n",
            "AS00020    Cause Effet         11\n",
            "           Traitement Effet     3\n",
            "Name: annotation, dtype: int64\n",
            "====================================\n",
            "Total nnotations par annotateur : \n",
            " annotator\n",
            "AC30300    16\n",
            "AR41550    15\n",
            "AS00020    14\n",
            "Name: annotation, dtype: int64\n"
          ]
        }
      ],
      "source": [
        "print('Total de relations annotées : \\n', reduced_relations_annos.count(grouped_by='annotation'))\n",
        "print(\"====================================\")\n",
        "print('Annotations par annotateurr par type de relation : \\n', reduced_relations_annos.count(grouped_by=['annotator','annotation']))\n",
        "print(\"====================================\")\n",
        "print('Total nnotations par annotateur : \\n', reduced_relations_annos.count(grouped_by=['annotator']))\n"
      ]
    },
    {
      "cell_type": "markdown",
      "metadata": {
        "id": "qIA-ZPXVUKgw"
      },
      "source": [
        "### Inspecting Data in Detail\n",
        "\n",
        "To get an overview over the annotation, you can look at the document-annotator matrix."
      ]
    },
    {
      "cell_type": "code",
      "execution_count": 14,
      "metadata": {
        "id": "g9RvjiEmTeSc"
      },
      "outputs": [
        {
          "data": {
            "text/html": [
              "<div>\n",
              "<style scoped>\n",
              "    .dataframe tbody tr th:only-of-type {\n",
              "        vertical-align: middle;\n",
              "    }\n",
              "\n",
              "    .dataframe tbody tr th {\n",
              "        vertical-align: top;\n",
              "    }\n",
              "\n",
              "    .dataframe thead th {\n",
              "        text-align: right;\n",
              "    }\n",
              "</style>\n",
              "<table border=\"1\" class=\"dataframe\">\n",
              "  <thead>\n",
              "    <tr style=\"text-align: right;\">\n",
              "      <th></th>\n",
              "      <th></th>\n",
              "      <th></th>\n",
              "      <th>annotator</th>\n",
              "      <th>AC30300</th>\n",
              "      <th>AR41550</th>\n",
              "      <th>AS00020</th>\n",
              "    </tr>\n",
              "    <tr>\n",
              "      <th>source_file</th>\n",
              "      <th>sentence</th>\n",
              "      <th>begin</th>\n",
              "      <th>end</th>\n",
              "      <th></th>\n",
              "      <th></th>\n",
              "      <th></th>\n",
              "    </tr>\n",
              "  </thead>\n",
              "  <tbody>\n",
              "    <tr>\n",
              "      <th rowspan=\"5\" valign=\"top\">27121486.txt</th>\n",
              "      <th rowspan=\"5\" valign=\"top\">27121486.txt_0-121</th>\n",
              "      <th>21</th>\n",
              "      <th>25</th>\n",
              "      <td>C0752931</td>\n",
              "      <td>NaN</td>\n",
              "      <td>NaN</td>\n",
              "    </tr>\n",
              "    <tr>\n",
              "      <th>48</th>\n",
              "      <th>58</th>\n",
              "      <td>NaN</td>\n",
              "      <td>C1366529</td>\n",
              "      <td>C1366529</td>\n",
              "    </tr>\n",
              "    <tr>\n",
              "      <th>69</th>\n",
              "      <th>73</th>\n",
              "      <td>C0879590</td>\n",
              "      <td>NaN</td>\n",
              "      <td>C1334098</td>\n",
              "    </tr>\n",
              "    <tr>\n",
              "      <th>78</th>\n",
              "      <th>83</th>\n",
              "      <td>C1334098</td>\n",
              "      <td>NaN</td>\n",
              "      <td>C1334098</td>\n",
              "    </tr>\n",
              "    <tr>\n",
              "      <th>101</th>\n",
              "      <th>121</th>\n",
              "      <td>C0020443</td>\n",
              "      <td>C0020443</td>\n",
              "      <td>C0020443</td>\n",
              "    </tr>\n",
              "    <tr>\n",
              "      <th>...</th>\n",
              "      <th>...</th>\n",
              "      <th>...</th>\n",
              "      <th>...</th>\n",
              "      <td>...</td>\n",
              "      <td>...</td>\n",
              "      <td>...</td>\n",
              "    </tr>\n",
              "    <tr>\n",
              "      <th rowspan=\"3\" valign=\"top\">27317610.txt</th>\n",
              "      <th rowspan=\"3\" valign=\"top\">27317610.txt_83-1971</th>\n",
              "      <th>1828</th>\n",
              "      <th>1849</th>\n",
              "      <td>C1397856</td>\n",
              "      <td>C1397856</td>\n",
              "      <td>C1397856</td>\n",
              "    </tr>\n",
              "    <tr>\n",
              "      <th>1959</th>\n",
              "      <th>1970</th>\n",
              "      <td>NaN</td>\n",
              "      <td>C2832047</td>\n",
              "      <td>NaN</td>\n",
              "    </tr>\n",
              "    <tr>\n",
              "      <th>1967</th>\n",
              "      <th>1970</th>\n",
              "      <td>C0876926</td>\n",
              "      <td>NaN</td>\n",
              "      <td>C0876926</td>\n",
              "    </tr>\n",
              "    <tr>\n",
              "      <th rowspan=\"2\" valign=\"top\">27338437.txt</th>\n",
              "      <th>27338437.txt_0-84</th>\n",
              "      <th>66</th>\n",
              "      <th>75</th>\n",
              "      <td>NaN</td>\n",
              "      <td>C0004096</td>\n",
              "      <td>C0004096</td>\n",
              "    </tr>\n",
              "    <tr>\n",
              "      <th>27338437.txt_86-1483</th>\n",
              "      <th>149</th>\n",
              "      <th>170</th>\n",
              "      <td>NaN</td>\n",
              "      <td>C1301752</td>\n",
              "      <td>C1301752</td>\n",
              "    </tr>\n",
              "  </tbody>\n",
              "</table>\n",
              "<p>175 rows × 3 columns</p>\n",
              "</div>"
            ],
            "text/plain": [
              "annotator                                      AC30300   AR41550   AS00020\n",
              "source_file  sentence             begin end                               \n",
              "27121486.txt 27121486.txt_0-121   21    25    C0752931       NaN       NaN\n",
              "                                  48    58         NaN  C1366529  C1366529\n",
              "                                  69    73    C0879590       NaN  C1334098\n",
              "                                  78    83    C1334098       NaN  C1334098\n",
              "                                  101   121   C0020443  C0020443  C0020443\n",
              "...                                                ...       ...       ...\n",
              "27317610.txt 27317610.txt_83-1971 1828  1849  C1397856  C1397856  C1397856\n",
              "                                  1959  1970       NaN  C2832047       NaN\n",
              "                                  1967  1970  C0876926       NaN  C0876926\n",
              "27338437.txt 27338437.txt_0-84    66    75         NaN  C0004096  C0004096\n",
              "             27338437.txt_86-1483 149   170        NaN  C1301752  C1301752\n",
              "\n",
              "[175 rows x 3 columns]"
            ]
          },
          "execution_count": 14,
          "metadata": {},
          "output_type": "execute_result"
        }
      ],
      "source": [
        "reduced_umls_annos.document_annotator_matrix"
      ]
    },
    {
      "cell_type": "markdown",
      "metadata": {
        "id": "VuMdMDBQjDV8"
      },
      "source": [
        "It may be useful to have a look at the text that was annotated to adjudicate disagreements."
      ]
    },
    {
      "cell_type": "code",
      "execution_count": 15,
      "metadata": {
        "id": "hmntJKf2jSm0"
      },
      "outputs": [
        {
          "data": {
            "text/html": [
              "<div>\n",
              "<style scoped>\n",
              "    .dataframe tbody tr th:only-of-type {\n",
              "        vertical-align: middle;\n",
              "    }\n",
              "\n",
              "    .dataframe tbody tr th {\n",
              "        vertical-align: top;\n",
              "    }\n",
              "\n",
              "    .dataframe thead th {\n",
              "        text-align: right;\n",
              "    }\n",
              "</style>\n",
              "<table border=\"1\" class=\"dataframe\">\n",
              "  <thead>\n",
              "    <tr style=\"text-align: right;\">\n",
              "      <th></th>\n",
              "      <th></th>\n",
              "      <th></th>\n",
              "      <th></th>\n",
              "      <th></th>\n",
              "      <th>AC30300</th>\n",
              "      <th>AR41550</th>\n",
              "      <th>AS00020</th>\n",
              "      <th>text</th>\n",
              "    </tr>\n",
              "    <tr>\n",
              "      <th>source_file</th>\n",
              "      <th>sentence</th>\n",
              "      <th>begin</th>\n",
              "      <th>end</th>\n",
              "      <th>annotator</th>\n",
              "      <th></th>\n",
              "      <th></th>\n",
              "      <th></th>\n",
              "      <th></th>\n",
              "    </tr>\n",
              "  </thead>\n",
              "  <tbody>\n",
              "    <tr>\n",
              "      <th rowspan=\"5\" valign=\"top\">27121486.txt</th>\n",
              "      <th rowspan=\"5\" valign=\"top\">27121486.txt_0-121</th>\n",
              "      <th>21</th>\n",
              "      <th>25</th>\n",
              "      <th>AC30300</th>\n",
              "      <td>C0752931</td>\n",
              "      <td>NaN</td>\n",
              "      <td>NaN</td>\n",
              "      <td>XspI</td>\n",
              "    </tr>\n",
              "    <tr>\n",
              "      <th rowspan=\"2\" valign=\"top\">48</th>\n",
              "      <th rowspan=\"2\" valign=\"top\">58</th>\n",
              "      <th>AS00020</th>\n",
              "      <td>NaN</td>\n",
              "      <td>C1366529</td>\n",
              "      <td>C1366529</td>\n",
              "      <td>LDL-R Gene</td>\n",
              "    </tr>\n",
              "    <tr>\n",
              "      <th>AR41550</th>\n",
              "      <td>NaN</td>\n",
              "      <td>C1366529</td>\n",
              "      <td>C1366529</td>\n",
              "      <td>LDL-R Gene</td>\n",
              "    </tr>\n",
              "    <tr>\n",
              "      <th rowspan=\"2\" valign=\"top\">69</th>\n",
              "      <th rowspan=\"2\" valign=\"top\">73</th>\n",
              "      <th>AS00020</th>\n",
              "      <td>C0879590</td>\n",
              "      <td>NaN</td>\n",
              "      <td>C1334098</td>\n",
              "      <td>IL-2</td>\n",
              "    </tr>\n",
              "    <tr>\n",
              "      <th>AC30300</th>\n",
              "      <td>C0879590</td>\n",
              "      <td>NaN</td>\n",
              "      <td>C1334098</td>\n",
              "      <td>IL-2</td>\n",
              "    </tr>\n",
              "  </tbody>\n",
              "</table>\n",
              "</div>"
            ],
            "text/plain": [
              "                                                      AC30300   AR41550  \\\n",
              "source_file  sentence           begin end annotator                       \n",
              "27121486.txt 27121486.txt_0-121 21    25  AC30300    C0752931       NaN   \n",
              "                                48    58  AS00020         NaN  C1366529   \n",
              "                                          AR41550         NaN  C1366529   \n",
              "                                69    73  AS00020    C0879590       NaN   \n",
              "                                          AC30300    C0879590       NaN   \n",
              "\n",
              "                                                      AS00020        text  \n",
              "source_file  sentence           begin end annotator                        \n",
              "27121486.txt 27121486.txt_0-121 21    25  AC30300         NaN        XspI  \n",
              "                                48    58  AS00020    C1366529  LDL-R Gene  \n",
              "                                          AR41550    C1366529  LDL-R Gene  \n",
              "                                69    73  AS00020    C1334098        IL-2  \n",
              "                                          AC30300    C1334098        IL-2  "
            ]
          },
          "execution_count": 15,
          "metadata": {},
          "output_type": "execute_result"
        }
      ],
      "source": [
        "document_annotator_matrix = reduced_umls_annos.document_annotator_matrix\n",
        "covered_texts = reduced_umls_annos.texts\n",
        "document_annotator_matrix.join(covered_texts).head()"
      ]
    },
    {
      "cell_type": "markdown",
      "metadata": {
        "id": "2_U5jQxYWIZz"
      },
      "source": [
        "If you are looking for annotation quality, we also provide confusion matrices and agreement measures. Confusion matrices produced pairwise and are indexed by annotators."
      ]
    },
    {
      "cell_type": "code",
      "execution_count": 16,
      "metadata": {
        "id": "6yIX4MwIWVYP"
      },
      "outputs": [
        {
          "data": {
            "text/plain": [
              "a        b      \n",
              "AS00020  AC30300    AC30300   C0002607  C0004096  C0004153  C00049...\n",
              "         AR41550    AR41550   C0002607  C0004096  C0004153  C00049...\n",
              "AC30300  AR41550    AR41550   C0002607  C0004096  C0004153  C00049...\n",
              "Name: confusion_matrix, dtype: object"
            ]
          },
          "execution_count": 16,
          "metadata": {},
          "output_type": "execute_result"
        }
      ],
      "source": [
        "cms = reduced_umls_annos.confusion_matrices()\n",
        "cms"
      ]
    },
    {
      "cell_type": "markdown",
      "metadata": {
        "id": "o_Aag0tzdw1R"
      },
      "source": [
        "If you are not interested in individual annotators, but overall disagreements over certain classes, you can aggregate the pairwise matrices into a single matrix."
      ]
    },
    {
      "cell_type": "code",
      "execution_count": 17,
      "metadata": {
        "id": "f8GRPB1tdwJy"
      },
      "outputs": [
        {
          "name": "stdout",
          "output_type": "stream",
          "text": [
            "          C0002607  C0004096  C0004153  C0004936  C0010124  C0017710  \\\n",
            "C0002607         0         0         0         0         0         0   \n",
            "C0004096         0         1         0         0         0         0   \n",
            "C0004153         0         0         1         0         0         0   \n",
            "C0004936         0         0         0         3         0         0   \n",
            "C0010124         0         0         0         0         3         0   \n",
            "C0017710         0         0         0         0         0         1   \n",
            "C0020443         0         0         0         0         0         0   \n",
            "C0020663         0         0         0         0         0         0   \n",
            "C0023820         0         0         0         0         0         0   \n",
            "C0023822         0         0         0         0         0         0   \n",
            "C0023823         0         0         0         0         0         0   \n",
            "C0023824         0         0         0         0         0         0   \n",
            "C0024765         0         0         0         0         0         0   \n",
            "C0025815         0         0         0         0         0         0   \n",
            "C0030532         0         0         0         0         0         0   \n",
            "C0032002         0         0         0         0         0         0   \n",
            "C0035693         0         0         0         0         0         0   \n",
            "C0036825         0         0         0         0         0         0   \n",
            "C0037317         0         0         0         0         0         0   \n",
            "C0039601         0         0         0         0         0         0   \n",
            "C0041928         0         0         0         0         0         0   \n",
            "C0065059         0         0         0         0         0         0   \n",
            "C0069562         0         0         0         0         0         0   \n",
            "C0183086         0         0         0         0         0         0   \n",
            "C0242510         0         0         0         0         0         0   \n",
            "C0311474         0         0         0         0         0         0   \n",
            "C0409959         0         0         0         0         0         0   \n",
            "C0524620         0         0         0         0         0         0   \n",
            "C0543822         0         0         1         0         0         0   \n",
            "C0600901         0         0         0         0         0         0   \n",
            "C0677659         0         0         0         0         0         0   \n",
            "C0751973         0         0         0         0         0         0   \n",
            "C0752931         0         0         0         0         0         0   \n",
            "C0857493         0         0         0         0         0         0   \n",
            "C0876926         0         0         0         0         0         0   \n",
            "C0879590         0         0         0         0         0         0   \n",
            "C0937846         0         0         0         0         0         0   \n",
            "C1260930         0         0         0         0         0         0   \n",
            "C1301752         0         0         0         0         0         0   \n",
            "C1334098         0         0         0         0         0         0   \n",
            "C1366529         0         0         0         0         0         0   \n",
            "C1397856         0         0         0         0         0         0   \n",
            "C1412471         0         0         0         0         0         0   \n",
            "C1412481         0         0         0         0         0         0   \n",
            "C1413627         0         0         0         0         0         0   \n",
            "C1415042         0         0         0         0         0         0   \n",
            "C1702044         0         0         0         0         0         0   \n",
            "C1720758         0         0         0         0         0         0   \n",
            "C1867743         0         0         0         0         0         0   \n",
            "C1956346         0         0         0         0         0         0   \n",
            "C2095490         0         0         0         0         0         0   \n",
            "C2747839         0         0         0         0         0         0   \n",
            "C2832047         0         0         0         0         0         0   \n",
            "C3203348         0         0         0         0         0         0   \n",
            "C3814817         0         0         0         0         0         0   \n",
            "C4316579         0         0         0         0         0         0   \n",
            "C5232975         0         0         0         0         0         0   \n",
            "C5700359         0         0         0         0         0         0   \n",
            "C5936645         0         0         0         0         0         0   \n",
            "PCR RFLP         0         0         0         0         0         0   \n",
            "\n",
            "          C0020443  C0020663  C0023820  C0023822  ...  C2095490  C2747839  \\\n",
            "C0002607         0         0         0         0  ...         0         0   \n",
            "C0004096         0         0         0         0  ...         0         0   \n",
            "C0004153         0         0         0         0  ...         0         0   \n",
            "C0004936         0         0         0         0  ...         0         0   \n",
            "C0010124         0         0         0         0  ...         0         0   \n",
            "C0017710         0         0         0         0  ...         0         0   \n",
            "C0020443         9         0         0         0  ...         0         0   \n",
            "C0020663         0         1         0         0  ...         0         0   \n",
            "C0023820         3         0         0         0  ...         0         0   \n",
            "C0023822         0         0         0         0  ...         0         0   \n",
            "C0023823         0         0         0         0  ...         0         0   \n",
            "C0023824         0         0         0         0  ...         0         0   \n",
            "C0024765         0         0         0         0  ...         0         0   \n",
            "C0025815         0         0         0         0  ...         0         0   \n",
            "C0030532         0         0         0         0  ...         0         0   \n",
            "C0032002         0         0         0         0  ...         0         0   \n",
            "C0035693         0         0         0         0  ...         0         0   \n",
            "C0036825         0         0         0         0  ...         0         0   \n",
            "C0037317         0         0         0         0  ...         0         0   \n",
            "C0039601         0         0         0         0  ...         0         0   \n",
            "C0041928         0         0         0         0  ...         0         0   \n",
            "C0065059         0         0         0         0  ...         0         0   \n",
            "C0069562         0         0         0         0  ...         0         0   \n",
            "C0183086         0         0         0         0  ...         0         0   \n",
            "C0242510         0         0         0         0  ...         0         0   \n",
            "C0311474         0         0         0         0  ...         0         0   \n",
            "C0409959         0         0         0         0  ...         0         0   \n",
            "C0524620         0         0         0         0  ...         0         0   \n",
            "C0543822         0         0         0         0  ...         0         0   \n",
            "C0600901         0         0         0         0  ...         0         0   \n",
            "C0677659         0         0         0         0  ...         0         0   \n",
            "C0751973         0         0         0         0  ...         0         0   \n",
            "C0752931         0         0         0         0  ...         0         0   \n",
            "C0857493         0         0         0         0  ...         0         0   \n",
            "C0876926         0         0         0         0  ...         0         0   \n",
            "C0879590         0         0         0         0  ...         0         0   \n",
            "C0937846         0         0         0         0  ...         0         0   \n",
            "C1260930         0         0         0         0  ...         0         0   \n",
            "C1301752         0         0         0         0  ...         0         0   \n",
            "C1334098         0         0         0         0  ...         0         0   \n",
            "C1366529         0         0         0         0  ...         0         0   \n",
            "C1397856         0         0         0         0  ...         0         0   \n",
            "C1412471         0         0         0         0  ...         0         0   \n",
            "C1412481         0         0         0         0  ...         0         0   \n",
            "C1413627         0         0         0         0  ...         0         0   \n",
            "C1415042         0         0         0         0  ...         0         0   \n",
            "C1702044         0         0         0         0  ...         0         0   \n",
            "C1720758         0         0         0         0  ...         0         0   \n",
            "C1867743         0         0         0         0  ...         0         0   \n",
            "C1956346         0         0         0         0  ...         0         0   \n",
            "C2095490         0         0         0         0  ...         0         0   \n",
            "C2747839         0         0         0         0  ...         0         1   \n",
            "C2832047         0         0         0         0  ...         0         0   \n",
            "C3203348         0         0         0         0  ...         0         0   \n",
            "C3814817         0         0         0         0  ...         0         0   \n",
            "C4316579         0         0         0         0  ...         0         0   \n",
            "C5232975         0         0         0         0  ...         0         0   \n",
            "C5700359         0         0         0         0  ...         0         0   \n",
            "C5936645         0         0         0         0  ...         0         0   \n",
            "PCR RFLP         0         0         0         0  ...         0         0   \n",
            "\n",
            "          C2832047  C3203348  C3814817  C4316579  C5232975  C5700359  \\\n",
            "C0002607         0         0         0         0         0         0   \n",
            "C0004096         0         0         0         0         0         0   \n",
            "C0004153         0         0         0         0         0         0   \n",
            "C0004936         0         0         0         0         0         0   \n",
            "C0010124         0         0         0         0         0         0   \n",
            "C0017710         0         0         0         0         0         0   \n",
            "C0020443         0         0         0         0         0         0   \n",
            "C0020663         0         0         0         0         0         0   \n",
            "C0023820         0         0         0         0         0         0   \n",
            "C0023822         0         0         0         0         0         0   \n",
            "C0023823         0         0         0         0         0         0   \n",
            "C0023824         0         0         0         0         0         0   \n",
            "C0024765         0         0         0         0         0         0   \n",
            "C0025815         0         0         0         0         0         0   \n",
            "C0030532         0         0         0         0         0         0   \n",
            "C0032002         0         0         0         0         0         0   \n",
            "C0035693         0         0         0         0         0         0   \n",
            "C0036825         0         0         0         0         0         0   \n",
            "C0037317         0         0         0         0         0         0   \n",
            "C0039601         0         0         0         0         0         0   \n",
            "C0041928         0         0         0         0         0         0   \n",
            "C0065059         0         0         0         0         0         0   \n",
            "C0069562         0         0         0         0         0         0   \n",
            "C0183086         0         0         0         0         0         0   \n",
            "C0242510         0         0         0         0         0         0   \n",
            "C0311474         0         0         0         0         0         0   \n",
            "C0409959         0         0         0         0         0         0   \n",
            "C0524620         0         0         0         0         0         0   \n",
            "C0543822         0         0         0         0         0         0   \n",
            "C0600901         0         0         0         0         0         0   \n",
            "C0677659         0         0         0         0         0         0   \n",
            "C0751973         0         0         0         0         0         0   \n",
            "C0752931         0         0         0         0         0         0   \n",
            "C0857493         0         0         0         0         0         0   \n",
            "C0876926         0         0         0         0         0         0   \n",
            "C0879590         0         0         0         0         0         0   \n",
            "C0937846         0         0         0         0         0         0   \n",
            "C1260930         0         0         0         0         0         0   \n",
            "C1301752         0         0         0         0         0         0   \n",
            "C1334098         0         0         0         0         0         0   \n",
            "C1366529         0         0         0         0         0         0   \n",
            "C1397856         0         0         0         0         0         0   \n",
            "C1412471         0         0         0         0         0         0   \n",
            "C1412481         0         0         0         0         0         0   \n",
            "C1413627         0         0         0         0         0         0   \n",
            "C1415042         0         0         0         0         0         0   \n",
            "C1702044         0         0         0         0         0         0   \n",
            "C1720758         0         0         0         0         0         0   \n",
            "C1867743         0         0         0         0         0         0   \n",
            "C1956346         0         0         0         0         0         0   \n",
            "C2095490         0         0         0         0         0         0   \n",
            "C2747839         0         0         0         0         0         0   \n",
            "C2832047         1         0         0         0         0         0   \n",
            "C3203348         0         0         0         0         0         0   \n",
            "C3814817         0         0         0         0         0         1   \n",
            "C4316579         0         0         0         0         0         0   \n",
            "C5232975         0         0         0         0         0         0   \n",
            "C5700359         0         0         0         0         0         3   \n",
            "C5936645         0         0         0         0         0         0   \n",
            "PCR RFLP         0         0         0         0         0         0   \n",
            "\n",
            "          C5936645  PCR RFLP  \n",
            "C0002607         0         0  \n",
            "C0004096         0         0  \n",
            "C0004153         0         0  \n",
            "C0004936         0         0  \n",
            "C0010124         0         0  \n",
            "C0017710         0         0  \n",
            "C0020443         0         0  \n",
            "C0020663         0         0  \n",
            "C0023820         0         0  \n",
            "C0023822         0         0  \n",
            "C0023823         0         0  \n",
            "C0023824         0         0  \n",
            "C0024765         0         0  \n",
            "C0025815         0         0  \n",
            "C0030532         0         0  \n",
            "C0032002         0         0  \n",
            "C0035693         0         0  \n",
            "C0036825         0         0  \n",
            "C0037317         0         0  \n",
            "C0039601         0         0  \n",
            "C0041928         0         0  \n",
            "C0065059         0         0  \n",
            "C0069562         0         0  \n",
            "C0183086         0         0  \n",
            "C0242510         0         0  \n",
            "C0311474         0         0  \n",
            "C0409959         0         0  \n",
            "C0524620         0         0  \n",
            "C0543822         0         0  \n",
            "C0600901         0         0  \n",
            "C0677659         0         0  \n",
            "C0751973         0         0  \n",
            "C0752931         0         0  \n",
            "C0857493         0         0  \n",
            "C0876926         0         0  \n",
            "C0879590         0         0  \n",
            "C0937846         0         0  \n",
            "C1260930         0         0  \n",
            "C1301752         0         0  \n",
            "C1334098         0         0  \n",
            "C1366529         0         0  \n",
            "C1397856         0         0  \n",
            "C1412471         0         0  \n",
            "C1412481         0         0  \n",
            "C1413627         0         0  \n",
            "C1415042         0         0  \n",
            "C1702044         0         0  \n",
            "C1720758         0         0  \n",
            "C1867743         0         0  \n",
            "C1956346         0         0  \n",
            "C2095490         0         0  \n",
            "C2747839         0         0  \n",
            "C2832047         0         0  \n",
            "C3203348         0         0  \n",
            "C3814817         0         0  \n",
            "C4316579         0         0  \n",
            "C5232975         0         0  \n",
            "C5700359         0         0  \n",
            "C5936645         0         0  \n",
            "PCR RFLP         0         0  \n",
            "\n",
            "[60 rows x 60 columns]\n"
          ]
        }
      ],
      "source": [
        "# sum over all pairwise matrices\n",
        "print(reduced_umls_annos.confusion_matrices(aggregate='total'))"
      ]
    },
    {
      "cell_type": "markdown",
      "metadata": {
        "id": "6k7ukC1mecgn"
      },
      "source": [
        "If you want to quantify disagreements, INCEpTALYTICS offers different agreement measures which can be calculated pairwise or in aggregate."
      ]
    },
    {
      "cell_type": "code",
      "execution_count": 18,
      "metadata": {
        "id": "anwE364oeb_s"
      },
      "outputs": [
        {
          "name": "stdout",
          "output_type": "stream",
          "text": [
            "Krippendorff's alpha:  0.8439892406372853\n",
            "                  n     kappa\n",
            "a       b                    \n",
            "AS00020 AC30300  24  0.904950\n",
            "        AR41550  71  0.821196\n",
            "AC30300 AR41550  18  1.000000\n"
          ]
        }
      ],
      "source": [
        "print('Krippendorff\\'s alpha: ', reduced_umls_annos.iaa())\n",
        "print(reduced_umls_annos.iaa_pairwise(measure='kappa'))"
      ]
    },
    {
      "cell_type": "code",
      "execution_count": 19,
      "metadata": {},
      "outputs": [],
      "source": [
        "reduced_umls_annos = project.select(annotation=feature_path_umls,\n",
        "                                   annotators=['AS00020', 'AC30300', 'AR41550'],\n",
        "                                   source_files=file_names_3_annotators)"
      ]
    },
    {
      "cell_type": "code",
      "execution_count": 20,
      "metadata": {},
      "outputs": [
        {
          "data": {
            "text/plain": [
              "source_file   sentence              begin  end \n",
              "27121486.txt  27121486.txt_0-121    21     25      C0752931\n",
              "                                    48     58           NaN\n",
              "                                    69     73      C0879590\n",
              "                                    78     83      C1334098\n",
              "                                    101    121     C0020443\n",
              "                                                     ...   \n",
              "27317610.txt  27317610.txt_83-1971  1828   1849    C1397856\n",
              "                                    1959   1970         NaN\n",
              "                                    1967   1970    C0876926\n",
              "27338437.txt  27338437.txt_0-84     66     75      C0004096\n",
              "              27338437.txt_86-1483  149    170     C1301752\n",
              "Length: 525, dtype: object"
            ]
          },
          "execution_count": 20,
          "metadata": {},
          "output_type": "execute_result"
        }
      ],
      "source": [
        "df1 = reduced_umls_annos\n",
        "df1 = df1.document_annotator_matrix\n",
        "columns_to_encode = ['AC30300','AR41550','AS00020']\n",
        "all_values = pd.concat([df1[col] for col in columns_to_encode])\n",
        "all_values"
      ]
    },
    {
      "cell_type": "code",
      "execution_count": 21,
      "metadata": {},
      "outputs": [
        {
          "data": {
            "text/html": [
              "<div>\n",
              "<style scoped>\n",
              "    .dataframe tbody tr th:only-of-type {\n",
              "        vertical-align: middle;\n",
              "    }\n",
              "\n",
              "    .dataframe tbody tr th {\n",
              "        vertical-align: top;\n",
              "    }\n",
              "\n",
              "    .dataframe thead th {\n",
              "        text-align: right;\n",
              "    }\n",
              "</style>\n",
              "<table border=\"1\" class=\"dataframe\">\n",
              "  <thead>\n",
              "    <tr style=\"text-align: right;\">\n",
              "      <th></th>\n",
              "      <th></th>\n",
              "      <th></th>\n",
              "      <th>annotator</th>\n",
              "      <th>AC30300</th>\n",
              "      <th>AR41550</th>\n",
              "      <th>AS00020</th>\n",
              "    </tr>\n",
              "    <tr>\n",
              "      <th>source_file</th>\n",
              "      <th>sentence</th>\n",
              "      <th>begin</th>\n",
              "      <th>end</th>\n",
              "      <th></th>\n",
              "      <th></th>\n",
              "      <th></th>\n",
              "    </tr>\n",
              "  </thead>\n",
              "  <tbody>\n",
              "    <tr>\n",
              "      <th rowspan=\"5\" valign=\"top\">27121486.txt</th>\n",
              "      <th rowspan=\"5\" valign=\"top\">27121486.txt_0-121</th>\n",
              "      <th>21</th>\n",
              "      <th>25</th>\n",
              "      <td>C0752931</td>\n",
              "      <td>Missing</td>\n",
              "      <td>Missing</td>\n",
              "    </tr>\n",
              "    <tr>\n",
              "      <th>48</th>\n",
              "      <th>58</th>\n",
              "      <td>Missing</td>\n",
              "      <td>C1366529</td>\n",
              "      <td>C1366529</td>\n",
              "    </tr>\n",
              "    <tr>\n",
              "      <th>69</th>\n",
              "      <th>73</th>\n",
              "      <td>C0879590</td>\n",
              "      <td>Missing</td>\n",
              "      <td>C1334098</td>\n",
              "    </tr>\n",
              "    <tr>\n",
              "      <th>78</th>\n",
              "      <th>83</th>\n",
              "      <td>C1334098</td>\n",
              "      <td>Missing</td>\n",
              "      <td>C1334098</td>\n",
              "    </tr>\n",
              "    <tr>\n",
              "      <th>101</th>\n",
              "      <th>121</th>\n",
              "      <td>C0020443</td>\n",
              "      <td>C0020443</td>\n",
              "      <td>C0020443</td>\n",
              "    </tr>\n",
              "    <tr>\n",
              "      <th>...</th>\n",
              "      <th>...</th>\n",
              "      <th>...</th>\n",
              "      <th>...</th>\n",
              "      <td>...</td>\n",
              "      <td>...</td>\n",
              "      <td>...</td>\n",
              "    </tr>\n",
              "    <tr>\n",
              "      <th rowspan=\"3\" valign=\"top\">27317610.txt</th>\n",
              "      <th rowspan=\"3\" valign=\"top\">27317610.txt_83-1971</th>\n",
              "      <th>1828</th>\n",
              "      <th>1849</th>\n",
              "      <td>C1397856</td>\n",
              "      <td>C1397856</td>\n",
              "      <td>C1397856</td>\n",
              "    </tr>\n",
              "    <tr>\n",
              "      <th>1959</th>\n",
              "      <th>1970</th>\n",
              "      <td>Missing</td>\n",
              "      <td>C2832047</td>\n",
              "      <td>Missing</td>\n",
              "    </tr>\n",
              "    <tr>\n",
              "      <th>1967</th>\n",
              "      <th>1970</th>\n",
              "      <td>C0876926</td>\n",
              "      <td>Missing</td>\n",
              "      <td>C0876926</td>\n",
              "    </tr>\n",
              "    <tr>\n",
              "      <th rowspan=\"2\" valign=\"top\">27338437.txt</th>\n",
              "      <th>27338437.txt_0-84</th>\n",
              "      <th>66</th>\n",
              "      <th>75</th>\n",
              "      <td>Missing</td>\n",
              "      <td>C0004096</td>\n",
              "      <td>C0004096</td>\n",
              "    </tr>\n",
              "    <tr>\n",
              "      <th>27338437.txt_86-1483</th>\n",
              "      <th>149</th>\n",
              "      <th>170</th>\n",
              "      <td>Missing</td>\n",
              "      <td>C1301752</td>\n",
              "      <td>C1301752</td>\n",
              "    </tr>\n",
              "  </tbody>\n",
              "</table>\n",
              "<p>175 rows × 3 columns</p>\n",
              "</div>"
            ],
            "text/plain": [
              "annotator                                      AC30300   AR41550   AS00020\n",
              "source_file  sentence             begin end                               \n",
              "27121486.txt 27121486.txt_0-121   21    25    C0752931   Missing   Missing\n",
              "                                  48    58     Missing  C1366529  C1366529\n",
              "                                  69    73    C0879590   Missing  C1334098\n",
              "                                  78    83    C1334098   Missing  C1334098\n",
              "                                  101   121   C0020443  C0020443  C0020443\n",
              "...                                                ...       ...       ...\n",
              "27317610.txt 27317610.txt_83-1971 1828  1849  C1397856  C1397856  C1397856\n",
              "                                  1959  1970   Missing  C2832047   Missing\n",
              "                                  1967  1970  C0876926   Missing  C0876926\n",
              "27338437.txt 27338437.txt_0-84    66    75     Missing  C0004096  C0004096\n",
              "             27338437.txt_86-1483 149   170    Missing  C1301752  C1301752\n",
              "\n",
              "[175 rows x 3 columns]"
            ]
          },
          "execution_count": 21,
          "metadata": {},
          "output_type": "execute_result"
        }
      ],
      "source": [
        "df_annotator_matrix = reduced_umls_annos.document_annotator_matrix\n",
        "df_annotator_matrix = df_annotator_matrix.fillna('Missing')\n",
        "\n",
        "\n",
        "df_annotator_matrix"
      ]
    },
    {
      "cell_type": "code",
      "execution_count": 22,
      "metadata": {},
      "outputs": [
        {
          "name": "stdout",
          "output_type": "stream",
          "text": [
            "Entente proportionnelle : 0.09142857142857143\n"
          ]
        }
      ],
      "source": [
        "# Fonction pour vérifier l'accord inter-annotateur (1, 2 ou 3)\n",
        "def verifier_accord(row):\n",
        "    # Compter combien de valeurs uniques il y a parmi les annotations\n",
        "    unique_values = len(set([row['AC30300'], row['AR41550'], row['AS00020']]))\n",
        "    if unique_values == 1:\n",
        "        return 3/3  # Tous les annotateurs sont en accord\n",
        "    elif unique_values == 2:\n",
        "        return 2/3  # Deux annotateurs sont en accord\n",
        "    else:\n",
        "        return 0  # Pas d'accord\n",
        "\n",
        "def convert_to_binary_matrix(df):\n",
        "    print(1)\n",
        "\n",
        "df_annotator_matrix['Accord'] = df_annotator_matrix.apply(verifier_accord, axis=1)\n",
        "df_annotator_matrix[\"cumulative_sum\"] = df_annotator_matrix[\"Accord\"].cumsum()\n",
        "\n",
        "print(\"Entente proportionnelle : \"+ str(df_annotator_matrix[\"Accord\"].value_counts()[1]/len(df_annotator_matrix)))"
      ]
    },
    {
      "cell_type": "code",
      "execution_count": 23,
      "metadata": {},
      "outputs": [
        {
          "data": {
            "text/html": [
              "<div>\n",
              "<style scoped>\n",
              "    .dataframe tbody tr th:only-of-type {\n",
              "        vertical-align: middle;\n",
              "    }\n",
              "\n",
              "    .dataframe tbody tr th {\n",
              "        vertical-align: top;\n",
              "    }\n",
              "\n",
              "    .dataframe thead th {\n",
              "        text-align: right;\n",
              "    }\n",
              "</style>\n",
              "<table border=\"1\" class=\"dataframe\">\n",
              "  <thead>\n",
              "    <tr style=\"text-align: right;\">\n",
              "      <th></th>\n",
              "      <th></th>\n",
              "      <th></th>\n",
              "      <th>annotator</th>\n",
              "      <th>AC30300</th>\n",
              "      <th>AR41550</th>\n",
              "      <th>AS00020</th>\n",
              "      <th>Class1</th>\n",
              "      <th>Class2</th>\n",
              "    </tr>\n",
              "    <tr>\n",
              "      <th>source_file</th>\n",
              "      <th>sentence</th>\n",
              "      <th>begin</th>\n",
              "      <th>end</th>\n",
              "      <th></th>\n",
              "      <th></th>\n",
              "      <th></th>\n",
              "      <th></th>\n",
              "      <th></th>\n",
              "    </tr>\n",
              "  </thead>\n",
              "  <tbody>\n",
              "    <tr>\n",
              "      <th rowspan=\"5\" valign=\"top\">27121486.txt</th>\n",
              "      <th rowspan=\"5\" valign=\"top\">27121486.txt_0-121</th>\n",
              "      <th>21</th>\n",
              "      <th>25</th>\n",
              "      <td>1</td>\n",
              "      <td>0</td>\n",
              "      <td>0</td>\n",
              "      <td>1</td>\n",
              "      <td>2</td>\n",
              "    </tr>\n",
              "    <tr>\n",
              "      <th>48</th>\n",
              "      <th>58</th>\n",
              "      <td>0</td>\n",
              "      <td>1</td>\n",
              "      <td>1</td>\n",
              "      <td>2</td>\n",
              "      <td>1</td>\n",
              "    </tr>\n",
              "    <tr>\n",
              "      <th>69</th>\n",
              "      <th>73</th>\n",
              "      <td>1</td>\n",
              "      <td>0</td>\n",
              "      <td>1</td>\n",
              "      <td>2</td>\n",
              "      <td>1</td>\n",
              "    </tr>\n",
              "    <tr>\n",
              "      <th>78</th>\n",
              "      <th>83</th>\n",
              "      <td>1</td>\n",
              "      <td>0</td>\n",
              "      <td>1</td>\n",
              "      <td>2</td>\n",
              "      <td>1</td>\n",
              "    </tr>\n",
              "    <tr>\n",
              "      <th>101</th>\n",
              "      <th>121</th>\n",
              "      <td>1</td>\n",
              "      <td>1</td>\n",
              "      <td>1</td>\n",
              "      <td>3</td>\n",
              "      <td>0</td>\n",
              "    </tr>\n",
              "    <tr>\n",
              "      <th>...</th>\n",
              "      <th>...</th>\n",
              "      <th>...</th>\n",
              "      <th>...</th>\n",
              "      <td>...</td>\n",
              "      <td>...</td>\n",
              "      <td>...</td>\n",
              "      <td>...</td>\n",
              "      <td>...</td>\n",
              "    </tr>\n",
              "    <tr>\n",
              "      <th rowspan=\"3\" valign=\"top\">27317610.txt</th>\n",
              "      <th rowspan=\"3\" valign=\"top\">27317610.txt_83-1971</th>\n",
              "      <th>1828</th>\n",
              "      <th>1849</th>\n",
              "      <td>1</td>\n",
              "      <td>1</td>\n",
              "      <td>1</td>\n",
              "      <td>3</td>\n",
              "      <td>0</td>\n",
              "    </tr>\n",
              "    <tr>\n",
              "      <th>1959</th>\n",
              "      <th>1970</th>\n",
              "      <td>0</td>\n",
              "      <td>1</td>\n",
              "      <td>0</td>\n",
              "      <td>1</td>\n",
              "      <td>2</td>\n",
              "    </tr>\n",
              "    <tr>\n",
              "      <th>1967</th>\n",
              "      <th>1970</th>\n",
              "      <td>1</td>\n",
              "      <td>0</td>\n",
              "      <td>1</td>\n",
              "      <td>2</td>\n",
              "      <td>1</td>\n",
              "    </tr>\n",
              "    <tr>\n",
              "      <th rowspan=\"2\" valign=\"top\">27338437.txt</th>\n",
              "      <th>27338437.txt_0-84</th>\n",
              "      <th>66</th>\n",
              "      <th>75</th>\n",
              "      <td>0</td>\n",
              "      <td>1</td>\n",
              "      <td>1</td>\n",
              "      <td>2</td>\n",
              "      <td>1</td>\n",
              "    </tr>\n",
              "    <tr>\n",
              "      <th>27338437.txt_86-1483</th>\n",
              "      <th>149</th>\n",
              "      <th>170</th>\n",
              "      <td>0</td>\n",
              "      <td>1</td>\n",
              "      <td>1</td>\n",
              "      <td>2</td>\n",
              "      <td>1</td>\n",
              "    </tr>\n",
              "  </tbody>\n",
              "</table>\n",
              "<p>175 rows × 5 columns</p>\n",
              "</div>"
            ],
            "text/plain": [
              "annotator                                     AC30300  AR41550  AS00020  \\\n",
              "source_file  sentence             begin end                               \n",
              "27121486.txt 27121486.txt_0-121   21    25          1        0        0   \n",
              "                                  48    58          0        1        1   \n",
              "                                  69    73          1        0        1   \n",
              "                                  78    83          1        0        1   \n",
              "                                  101   121         1        1        1   \n",
              "...                                               ...      ...      ...   \n",
              "27317610.txt 27317610.txt_83-1971 1828  1849        1        1        1   \n",
              "                                  1959  1970        0        1        0   \n",
              "                                  1967  1970        1        0        1   \n",
              "27338437.txt 27338437.txt_0-84    66    75          0        1        1   \n",
              "             27338437.txt_86-1483 149   170         0        1        1   \n",
              "\n",
              "annotator                                     Class1  Class2  \n",
              "source_file  sentence             begin end                   \n",
              "27121486.txt 27121486.txt_0-121   21    25         1       2  \n",
              "                                  48    58         2       1  \n",
              "                                  69    73         2       1  \n",
              "                                  78    83         2       1  \n",
              "                                  101   121        3       0  \n",
              "...                                              ...     ...  \n",
              "27317610.txt 27317610.txt_83-1971 1828  1849       3       0  \n",
              "                                  1959  1970       1       2  \n",
              "                                  1967  1970       2       1  \n",
              "27338437.txt 27338437.txt_0-84    66    75         2       1  \n",
              "             27338437.txt_86-1483 149   170        2       1  \n",
              "\n",
              "[175 rows x 5 columns]"
            ]
          },
          "execution_count": 23,
          "metadata": {},
          "output_type": "execute_result"
        }
      ],
      "source": [
        "df_annotator_binary = df_annotator_matrix[['AC30300', 'AR41550', 'AS00020']].map(lambda x: 0 if x == \"Missing\" else 1)\n",
        "df_annotator_binary \n",
        "\n",
        "\n",
        "def sum_row(row):\n",
        "    return(np.sum([row['AC30300'],row['AR41550'], row['AS00020']]))\n",
        "    \n",
        "def sum_null(row):\n",
        "    return(3 - np.sum([row['AC30300'],row['AR41550'], row['AS00020']]))\n",
        "\n",
        "# Nombre d'annotateurs ayant ayant identifé un concept dans l'interval\n",
        "df_annotator_binary[\"Class1\"] = df_annotator_binary.apply(sum_row, axis=1)\n",
        "# Nombre d'annotateurs n'ayant pas identifié de concept dans l'interval\n",
        "df_annotator_binary[\"Class2\"] = df_annotator_binary.apply(sum_null, axis=1)\n",
        "\n",
        "df_annotator_binary\n"
      ]
    },
    {
      "cell_type": "markdown",
      "metadata": {},
      "source": [
        "Kappa de Fleiss pour déterminer l'entente inter-annotateur sur la \"ce segment contient une entité médicale ou non\"\n",
        "\n",
        "N = nombre de lignes (entités annotées).\n",
        "\n",
        "n = nombre d'annotateurs.\n",
        "\n",
        "k = nombre de catégories possibles (dans notre cas, 2 : \"annoté\" = 1, \"non annoté\" = 0).\n",
        "\n",
        "nijnij​ = nombre d’annotateurs qui ont choisi la catégorie j pour l’entité i."
      ]
    },
    {
      "cell_type": "code",
      "execution_count": 24,
      "metadata": {},
      "outputs": [
        {
          "name": "stdout",
          "output_type": "stream",
          "text": [
            "175\n",
            "3\n",
            "0.5005242630385488\n",
            "Fleiss Kappa : -0.20507307435279062\n"
          ]
        }
      ],
      "source": [
        "# Nombres d'entitéss annotées\n",
        "N = len(df_annotator_binary)\n",
        "print(N)\n",
        "# Nombre d'annotateurs\n",
        "n = 3\n",
        "print(n)\n",
        "# Nombre de catégories\n",
        "k = 2\n",
        "\n",
        "P_i = []\n",
        "for index, row in df_annotator_binary.iterrows():\n",
        "    # Nombre d'annotateurs ayant identifié un concept scientifique dans l'interval\n",
        "    n_1 = row[\"Class1\"]\n",
        "    # Nombre d'annotateurs qui n'ont pas annoté dans l'interval\n",
        "    n_0 = row[\"Class2\"]\n",
        "    # the extent to which raters agree for the i-th element \n",
        "    # (i.e., compute how many rater-rater pairs are in agreement, relative to the number of all possible rater-rater pairs)\n",
        "    P = (n_1**2 + n_0**2 - n) / (n * (n - 1))\n",
        "    P_i.append(P)\n",
        "\n",
        "P_bar = np.mean(P_i)  # Moyenne des Pi\n",
        "\n",
        "# Proportion des intervales de textes ayant été identifié par un CUI\n",
        "p_1 = df_annotator_binary[\"Class1\"].sum() / (N * n)  # Proportion d'annotations \"1\"\n",
        "p_0 = 1 - p_1\n",
        "\n",
        "# Accord attendu\n",
        "P_e = p_1**2 + p_0**2 \n",
        "print(P_e)\n",
        "\n",
        "# Calcul du kappa\n",
        "kappa = (P_bar - P_e) / (1 - P_e)\n",
        "\n",
        "print(\"Fleiss Kappa : \" +  str(kappa))"
      ]
    },
    {
      "attachments": {
        "image-2.png": {
          "image/png": "[encoded data removed]"
        }
      },
      "cell_type": "markdown",
      "metadata": {},
      "source": [
        "On interprète notre résultat à partir de ce tableau :\n",
        "\n",
        "![image-2.png](attachment:image-2.png)\n",
        "\n",
        "Nous avons donc une pauvre concordance inter-annotateur concernant le choix de l'annotation des termes scientifiques"
      ]
    },
    {
      "cell_type": "code",
      "execution_count": null,
      "metadata": {},
      "outputs": [],
      "source": [
        "df_annotator_matrix_semantique = reduced_umls_annos_"
      ]
    }
  ],
  "metadata": {
    "colab": {
      "collapsed_sections": [],
      "name": "inceptalytics_example.ipynb",
      "provenance": []
    },
    "kernelspec": {
      "display_name": "Python 3",
      "language": "python",
      "name": "python3"
    },
    "language_info": {
      "codemirror_mode": {
        "name": "ipython",
        "version": 3
      },
      "file_extension": ".py",
      "mimetype": "text/x-python",
      "name": "python",
      "nbconvert_exporter": "python",
      "pygments_lexer": "ipython3",
      "version": "3.10.4"
    }
  },
  "nbformat": 4,
  "nbformat_minor": 0
}
